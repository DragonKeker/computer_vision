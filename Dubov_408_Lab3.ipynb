{
 "cells": [
  {
   "cell_type": "code",
   "execution_count": 1,
   "metadata": {},
   "outputs": [],
   "source": [
    "import matplotlib.pyplot as plt\n",
    "import seaborn as sns\n",
    "import pandas as pd\n",
    "import numpy as np\n",
    "import warnings\n",
    "warnings.simplefilter(\"ignore\")\n",
    "%matplotlib inline\n",
    "\n",
    "sns.set(style=\"darkgrid\")"
   ]
  },
  {
   "cell_type": "code",
   "execution_count": 2,
   "metadata": {},
   "outputs": [
    {
     "data": {
      "text/html": [
       "<div>\n",
       "<style scoped>\n",
       "    .dataframe tbody tr th:only-of-type {\n",
       "        vertical-align: middle;\n",
       "    }\n",
       "\n",
       "    .dataframe tbody tr th {\n",
       "        vertical-align: top;\n",
       "    }\n",
       "\n",
       "    .dataframe thead th {\n",
       "        text-align: right;\n",
       "    }\n",
       "</style>\n",
       "<table border=\"1\" class=\"dataframe\">\n",
       "  <thead>\n",
       "    <tr style=\"text-align: right;\">\n",
       "      <th></th>\n",
       "      <th>Id</th>\n",
       "      <th>MSSubClass</th>\n",
       "      <th>MSZoning</th>\n",
       "      <th>LotFrontage</th>\n",
       "      <th>LotArea</th>\n",
       "      <th>Street</th>\n",
       "      <th>Alley</th>\n",
       "      <th>LotShape</th>\n",
       "      <th>LandContour</th>\n",
       "      <th>Utilities</th>\n",
       "      <th>...</th>\n",
       "      <th>PoolArea</th>\n",
       "      <th>PoolQC</th>\n",
       "      <th>Fence</th>\n",
       "      <th>MiscFeature</th>\n",
       "      <th>MiscVal</th>\n",
       "      <th>MoSold</th>\n",
       "      <th>YrSold</th>\n",
       "      <th>SaleType</th>\n",
       "      <th>SaleCondition</th>\n",
       "      <th>SalePrice</th>\n",
       "    </tr>\n",
       "  </thead>\n",
       "  <tbody>\n",
       "    <tr>\n",
       "      <th>0</th>\n",
       "      <td>1</td>\n",
       "      <td>60</td>\n",
       "      <td>RL</td>\n",
       "      <td>65.0</td>\n",
       "      <td>8450</td>\n",
       "      <td>Pave</td>\n",
       "      <td>NaN</td>\n",
       "      <td>Reg</td>\n",
       "      <td>Lvl</td>\n",
       "      <td>AllPub</td>\n",
       "      <td>...</td>\n",
       "      <td>0</td>\n",
       "      <td>NaN</td>\n",
       "      <td>NaN</td>\n",
       "      <td>NaN</td>\n",
       "      <td>0</td>\n",
       "      <td>2</td>\n",
       "      <td>2008</td>\n",
       "      <td>WD</td>\n",
       "      <td>Normal</td>\n",
       "      <td>208500</td>\n",
       "    </tr>\n",
       "    <tr>\n",
       "      <th>1</th>\n",
       "      <td>2</td>\n",
       "      <td>20</td>\n",
       "      <td>RL</td>\n",
       "      <td>80.0</td>\n",
       "      <td>9600</td>\n",
       "      <td>Pave</td>\n",
       "      <td>NaN</td>\n",
       "      <td>Reg</td>\n",
       "      <td>Lvl</td>\n",
       "      <td>AllPub</td>\n",
       "      <td>...</td>\n",
       "      <td>0</td>\n",
       "      <td>NaN</td>\n",
       "      <td>NaN</td>\n",
       "      <td>NaN</td>\n",
       "      <td>0</td>\n",
       "      <td>5</td>\n",
       "      <td>2007</td>\n",
       "      <td>WD</td>\n",
       "      <td>Normal</td>\n",
       "      <td>181500</td>\n",
       "    </tr>\n",
       "    <tr>\n",
       "      <th>2</th>\n",
       "      <td>3</td>\n",
       "      <td>60</td>\n",
       "      <td>RL</td>\n",
       "      <td>68.0</td>\n",
       "      <td>11250</td>\n",
       "      <td>Pave</td>\n",
       "      <td>NaN</td>\n",
       "      <td>IR1</td>\n",
       "      <td>Lvl</td>\n",
       "      <td>AllPub</td>\n",
       "      <td>...</td>\n",
       "      <td>0</td>\n",
       "      <td>NaN</td>\n",
       "      <td>NaN</td>\n",
       "      <td>NaN</td>\n",
       "      <td>0</td>\n",
       "      <td>9</td>\n",
       "      <td>2008</td>\n",
       "      <td>WD</td>\n",
       "      <td>Normal</td>\n",
       "      <td>223500</td>\n",
       "    </tr>\n",
       "    <tr>\n",
       "      <th>3</th>\n",
       "      <td>4</td>\n",
       "      <td>70</td>\n",
       "      <td>RL</td>\n",
       "      <td>60.0</td>\n",
       "      <td>9550</td>\n",
       "      <td>Pave</td>\n",
       "      <td>NaN</td>\n",
       "      <td>IR1</td>\n",
       "      <td>Lvl</td>\n",
       "      <td>AllPub</td>\n",
       "      <td>...</td>\n",
       "      <td>0</td>\n",
       "      <td>NaN</td>\n",
       "      <td>NaN</td>\n",
       "      <td>NaN</td>\n",
       "      <td>0</td>\n",
       "      <td>2</td>\n",
       "      <td>2006</td>\n",
       "      <td>WD</td>\n",
       "      <td>Abnorml</td>\n",
       "      <td>140000</td>\n",
       "    </tr>\n",
       "    <tr>\n",
       "      <th>4</th>\n",
       "      <td>5</td>\n",
       "      <td>60</td>\n",
       "      <td>RL</td>\n",
       "      <td>84.0</td>\n",
       "      <td>14260</td>\n",
       "      <td>Pave</td>\n",
       "      <td>NaN</td>\n",
       "      <td>IR1</td>\n",
       "      <td>Lvl</td>\n",
       "      <td>AllPub</td>\n",
       "      <td>...</td>\n",
       "      <td>0</td>\n",
       "      <td>NaN</td>\n",
       "      <td>NaN</td>\n",
       "      <td>NaN</td>\n",
       "      <td>0</td>\n",
       "      <td>12</td>\n",
       "      <td>2008</td>\n",
       "      <td>WD</td>\n",
       "      <td>Normal</td>\n",
       "      <td>250000</td>\n",
       "    </tr>\n",
       "  </tbody>\n",
       "</table>\n",
       "<p>5 rows × 81 columns</p>\n",
       "</div>"
      ],
      "text/plain": [
       "   Id  MSSubClass MSZoning  LotFrontage  LotArea Street Alley LotShape  \\\n",
       "0   1          60       RL         65.0     8450   Pave   NaN      Reg   \n",
       "1   2          20       RL         80.0     9600   Pave   NaN      Reg   \n",
       "2   3          60       RL         68.0    11250   Pave   NaN      IR1   \n",
       "3   4          70       RL         60.0     9550   Pave   NaN      IR1   \n",
       "4   5          60       RL         84.0    14260   Pave   NaN      IR1   \n",
       "\n",
       "  LandContour Utilities  ... PoolArea PoolQC Fence MiscFeature MiscVal MoSold  \\\n",
       "0         Lvl    AllPub  ...        0    NaN   NaN         NaN       0      2   \n",
       "1         Lvl    AllPub  ...        0    NaN   NaN         NaN       0      5   \n",
       "2         Lvl    AllPub  ...        0    NaN   NaN         NaN       0      9   \n",
       "3         Lvl    AllPub  ...        0    NaN   NaN         NaN       0      2   \n",
       "4         Lvl    AllPub  ...        0    NaN   NaN         NaN       0     12   \n",
       "\n",
       "  YrSold  SaleType  SaleCondition  SalePrice  \n",
       "0   2008        WD         Normal     208500  \n",
       "1   2007        WD         Normal     181500  \n",
       "2   2008        WD         Normal     223500  \n",
       "3   2006        WD        Abnorml     140000  \n",
       "4   2008        WD         Normal     250000  \n",
       "\n",
       "[5 rows x 81 columns]"
      ]
     },
     "execution_count": 2,
     "metadata": {},
     "output_type": "execute_result"
    }
   ],
   "source": [
    "data = pd.read_csv(\"train.csv\")\n",
    "data.head()"
   ]
  },
  {
   "cell_type": "code",
   "execution_count": 3,
   "metadata": {},
   "outputs": [
    {
     "data": {
      "text/plain": [
       "(1460, 81)"
      ]
     },
     "execution_count": 3,
     "metadata": {},
     "output_type": "execute_result"
    }
   ],
   "source": [
    "data.shape"
   ]
  },
  {
   "cell_type": "code",
   "execution_count": 4,
   "metadata": {},
   "outputs": [
    {
     "data": {
      "text/plain": [
       "Index(['Id', 'MSSubClass', 'MSZoning', 'LotFrontage', 'LotArea', 'Street',\n",
       "       'Alley', 'LotShape', 'LandContour', 'Utilities', 'LotConfig',\n",
       "       'LandSlope', 'Neighborhood', 'Condition1', 'Condition2', 'BldgType',\n",
       "       'HouseStyle', 'OverallQual', 'OverallCond', 'YearBuilt', 'YearRemodAdd',\n",
       "       'RoofStyle', 'RoofMatl', 'Exterior1st', 'Exterior2nd', 'MasVnrType',\n",
       "       'MasVnrArea', 'ExterQual', 'ExterCond', 'Foundation', 'BsmtQual',\n",
       "       'BsmtCond', 'BsmtExposure', 'BsmtFinType1', 'BsmtFinSF1',\n",
       "       'BsmtFinType2', 'BsmtFinSF2', 'BsmtUnfSF', 'TotalBsmtSF', 'Heating',\n",
       "       'HeatingQC', 'CentralAir', 'Electrical', '1stFlrSF', '2ndFlrSF',\n",
       "       'LowQualFinSF', 'GrLivArea', 'BsmtFullBath', 'BsmtHalfBath', 'FullBath',\n",
       "       'HalfBath', 'BedroomAbvGr', 'KitchenAbvGr', 'KitchenQual',\n",
       "       'TotRmsAbvGrd', 'Functional', 'Fireplaces', 'FireplaceQu', 'GarageType',\n",
       "       'GarageYrBlt', 'GarageFinish', 'GarageCars', 'GarageArea', 'GarageQual',\n",
       "       'GarageCond', 'PavedDrive', 'WoodDeckSF', 'OpenPorchSF',\n",
       "       'EnclosedPorch', '3SsnPorch', 'ScreenPorch', 'PoolArea', 'PoolQC',\n",
       "       'Fence', 'MiscFeature', 'MiscVal', 'MoSold', 'YrSold', 'SaleType',\n",
       "       'SaleCondition', 'SalePrice'],\n",
       "      dtype='object')"
      ]
     },
     "execution_count": 4,
     "metadata": {},
     "output_type": "execute_result"
    }
   ],
   "source": [
    "data.columns"
   ]
  },
  {
   "cell_type": "code",
   "execution_count": 5,
   "metadata": {},
   "outputs": [],
   "source": [
    "from sklearn.model_selection import train_test_split\n",
    "\n",
    "data = data.drop(columns=[\"Id\"])\n",
    "\n",
    "y = data[\"SalePrice\"]\n",
    "X = data.drop(columns=[\"SalePrice\"])\n",
    "\n",
    "X_train, X_test, y_train, y_test = train_test_split(X, y, test_size=0.3, random_state=10)"
   ]
  },
  {
   "cell_type": "code",
   "execution_count": 6,
   "metadata": {},
   "outputs": [
    {
     "data": {
      "text/plain": [
       "<AxesSubplot:xlabel='SalePrice', ylabel='Density'>"
      ]
     },
     "execution_count": 6,
     "metadata": {},
     "output_type": "execute_result"
    },
    {
     "data": {
      "image/png": "[encoded data removed]",
      "text/plain": [
       "<Figure size 432x288 with 1 Axes>"
      ]
     },
     "metadata": {},
     "output_type": "display_data"
    }
   ],
   "source": [
    "sns.distplot(y_train)"
   ]
  },
  {
   "cell_type": "code",
   "execution_count": 7,
   "metadata": {},
   "outputs": [],
   "source": [
    "# Обучите линейную регрессию (LinearRegression, Ridge, Lasso) на числовых признаках из нашего датасета\n",
    "# TO DO"
   ]
  },
  {
   "cell_type": "code",
   "execution_count": 8,
   "metadata": {},
   "outputs": [
    {
     "data": {
      "text/html": [
       "<div>\n",
       "<style scoped>\n",
       "    .dataframe tbody tr th:only-of-type {\n",
       "        vertical-align: middle;\n",
       "    }\n",
       "\n",
       "    .dataframe tbody tr th {\n",
       "        vertical-align: top;\n",
       "    }\n",
       "\n",
       "    .dataframe thead th {\n",
       "        text-align: right;\n",
       "    }\n",
       "</style>\n",
       "<table border=\"1\" class=\"dataframe\">\n",
       "  <thead>\n",
       "    <tr style=\"text-align: right;\">\n",
       "      <th></th>\n",
       "      <th>MSSubClass</th>\n",
       "      <th>LotFrontage</th>\n",
       "      <th>LotArea</th>\n",
       "      <th>OverallQual</th>\n",
       "      <th>OverallCond</th>\n",
       "      <th>YearBuilt</th>\n",
       "      <th>YearRemodAdd</th>\n",
       "      <th>MasVnrArea</th>\n",
       "      <th>BsmtFinSF1</th>\n",
       "      <th>BsmtFinSF2</th>\n",
       "      <th>...</th>\n",
       "      <th>GarageArea</th>\n",
       "      <th>WoodDeckSF</th>\n",
       "      <th>OpenPorchSF</th>\n",
       "      <th>EnclosedPorch</th>\n",
       "      <th>3SsnPorch</th>\n",
       "      <th>ScreenPorch</th>\n",
       "      <th>PoolArea</th>\n",
       "      <th>MiscVal</th>\n",
       "      <th>MoSold</th>\n",
       "      <th>YrSold</th>\n",
       "    </tr>\n",
       "  </thead>\n",
       "  <tbody>\n",
       "    <tr>\n",
       "      <th>0</th>\n",
       "      <td>60</td>\n",
       "      <td>65.0</td>\n",
       "      <td>8450</td>\n",
       "      <td>7</td>\n",
       "      <td>5</td>\n",
       "      <td>2003</td>\n",
       "      <td>2003</td>\n",
       "      <td>196.0</td>\n",
       "      <td>706</td>\n",
       "      <td>0</td>\n",
       "      <td>...</td>\n",
       "      <td>548</td>\n",
       "      <td>0</td>\n",
       "      <td>61</td>\n",
       "      <td>0</td>\n",
       "      <td>0</td>\n",
       "      <td>0</td>\n",
       "      <td>0</td>\n",
       "      <td>0</td>\n",
       "      <td>2</td>\n",
       "      <td>2008</td>\n",
       "    </tr>\n",
       "    <tr>\n",
       "      <th>1</th>\n",
       "      <td>20</td>\n",
       "      <td>80.0</td>\n",
       "      <td>9600</td>\n",
       "      <td>6</td>\n",
       "      <td>8</td>\n",
       "      <td>1976</td>\n",
       "      <td>1976</td>\n",
       "      <td>0.0</td>\n",
       "      <td>978</td>\n",
       "      <td>0</td>\n",
       "      <td>...</td>\n",
       "      <td>460</td>\n",
       "      <td>298</td>\n",
       "      <td>0</td>\n",
       "      <td>0</td>\n",
       "      <td>0</td>\n",
       "      <td>0</td>\n",
       "      <td>0</td>\n",
       "      <td>0</td>\n",
       "      <td>5</td>\n",
       "      <td>2007</td>\n",
       "    </tr>\n",
       "    <tr>\n",
       "      <th>2</th>\n",
       "      <td>60</td>\n",
       "      <td>68.0</td>\n",
       "      <td>11250</td>\n",
       "      <td>7</td>\n",
       "      <td>5</td>\n",
       "      <td>2001</td>\n",
       "      <td>2002</td>\n",
       "      <td>162.0</td>\n",
       "      <td>486</td>\n",
       "      <td>0</td>\n",
       "      <td>...</td>\n",
       "      <td>608</td>\n",
       "      <td>0</td>\n",
       "      <td>42</td>\n",
       "      <td>0</td>\n",
       "      <td>0</td>\n",
       "      <td>0</td>\n",
       "      <td>0</td>\n",
       "      <td>0</td>\n",
       "      <td>9</td>\n",
       "      <td>2008</td>\n",
       "    </tr>\n",
       "    <tr>\n",
       "      <th>3</th>\n",
       "      <td>70</td>\n",
       "      <td>60.0</td>\n",
       "      <td>9550</td>\n",
       "      <td>7</td>\n",
       "      <td>5</td>\n",
       "      <td>1915</td>\n",
       "      <td>1970</td>\n",
       "      <td>0.0</td>\n",
       "      <td>216</td>\n",
       "      <td>0</td>\n",
       "      <td>...</td>\n",
       "      <td>642</td>\n",
       "      <td>0</td>\n",
       "      <td>35</td>\n",
       "      <td>272</td>\n",
       "      <td>0</td>\n",
       "      <td>0</td>\n",
       "      <td>0</td>\n",
       "      <td>0</td>\n",
       "      <td>2</td>\n",
       "      <td>2006</td>\n",
       "    </tr>\n",
       "    <tr>\n",
       "      <th>4</th>\n",
       "      <td>60</td>\n",
       "      <td>84.0</td>\n",
       "      <td>14260</td>\n",
       "      <td>8</td>\n",
       "      <td>5</td>\n",
       "      <td>2000</td>\n",
       "      <td>2000</td>\n",
       "      <td>350.0</td>\n",
       "      <td>655</td>\n",
       "      <td>0</td>\n",
       "      <td>...</td>\n",
       "      <td>836</td>\n",
       "      <td>192</td>\n",
       "      <td>84</td>\n",
       "      <td>0</td>\n",
       "      <td>0</td>\n",
       "      <td>0</td>\n",
       "      <td>0</td>\n",
       "      <td>0</td>\n",
       "      <td>12</td>\n",
       "      <td>2008</td>\n",
       "    </tr>\n",
       "  </tbody>\n",
       "</table>\n",
       "<p>5 rows × 36 columns</p>\n",
       "</div>"
      ],
      "text/plain": [
       "   MSSubClass  LotFrontage  LotArea  OverallQual  OverallCond  YearBuilt  \\\n",
       "0          60         65.0     8450            7            5       2003   \n",
       "1          20         80.0     9600            6            8       1976   \n",
       "2          60         68.0    11250            7            5       2001   \n",
       "3          70         60.0     9550            7            5       1915   \n",
       "4          60         84.0    14260            8            5       2000   \n",
       "\n",
       "   YearRemodAdd  MasVnrArea  BsmtFinSF1  BsmtFinSF2  ...  GarageArea  \\\n",
       "0          2003       196.0         706           0  ...         548   \n",
       "1          1976         0.0         978           0  ...         460   \n",
       "2          2002       162.0         486           0  ...         608   \n",
       "3          1970         0.0         216           0  ...         642   \n",
       "4          2000       350.0         655           0  ...         836   \n",
       "\n",
       "   WoodDeckSF  OpenPorchSF  EnclosedPorch  3SsnPorch  ScreenPorch  PoolArea  \\\n",
       "0           0           61              0          0            0         0   \n",
       "1         298            0              0          0            0         0   \n",
       "2           0           42              0          0            0         0   \n",
       "3           0           35            272          0            0         0   \n",
       "4         192           84              0          0            0         0   \n",
       "\n",
       "   MiscVal  MoSold  YrSold  \n",
       "0        0       2    2008  \n",
       "1        0       5    2007  \n",
       "2        0       9    2008  \n",
       "3        0       2    2006  \n",
       "4        0      12    2008  \n",
       "\n",
       "[5 rows x 36 columns]"
      ]
     },
     "execution_count": 8,
     "metadata": {},
     "output_type": "execute_result"
    }
   ],
   "source": [
    "numeric_features = data.select_dtypes(include=np.number).columns.tolist()\n",
    "X_num = data[numeric_features].drop(columns=[\"SalePrice\"])\n",
    "numeric_features = X_num.columns\n",
    "\n",
    "X_num.head()\n"
   ]
  },
  {
   "cell_type": "code",
   "execution_count": 9,
   "metadata": {},
   "outputs": [
    {
     "data": {
      "text/plain": [
       "MSSubClass       0.000000\n",
       "LotFrontage      0.177397\n",
       "LotArea          0.000000\n",
       "OverallQual      0.000000\n",
       "OverallCond      0.000000\n",
       "YearBuilt        0.000000\n",
       "YearRemodAdd     0.000000\n",
       "MasVnrArea       0.005479\n",
       "BsmtFinSF1       0.000000\n",
       "BsmtFinSF2       0.000000\n",
       "BsmtUnfSF        0.000000\n",
       "TotalBsmtSF      0.000000\n",
       "1stFlrSF         0.000000\n",
       "2ndFlrSF         0.000000\n",
       "LowQualFinSF     0.000000\n",
       "GrLivArea        0.000000\n",
       "BsmtFullBath     0.000000\n",
       "BsmtHalfBath     0.000000\n",
       "FullBath         0.000000\n",
       "HalfBath         0.000000\n",
       "BedroomAbvGr     0.000000\n",
       "KitchenAbvGr     0.000000\n",
       "TotRmsAbvGrd     0.000000\n",
       "Fireplaces       0.000000\n",
       "GarageYrBlt      0.055479\n",
       "GarageCars       0.000000\n",
       "GarageArea       0.000000\n",
       "WoodDeckSF       0.000000\n",
       "OpenPorchSF      0.000000\n",
       "EnclosedPorch    0.000000\n",
       "3SsnPorch        0.000000\n",
       "ScreenPorch      0.000000\n",
       "PoolArea         0.000000\n",
       "MiscVal          0.000000\n",
       "MoSold           0.000000\n",
       "YrSold           0.000000\n",
       "dtype: float64"
      ]
     },
     "execution_count": 9,
     "metadata": {},
     "output_type": "execute_result"
    }
   ],
   "source": [
    "X_num.isna().mean()"
   ]
  },
  {
   "cell_type": "code",
   "execution_count": 10,
   "metadata": {},
   "outputs": [
    {
     "data": {
      "text/plain": [
       "MSSubClass       0.0\n",
       "LotFrontage      0.0\n",
       "LotArea          0.0\n",
       "OverallQual      0.0\n",
       "OverallCond      0.0\n",
       "YearBuilt        0.0\n",
       "YearRemodAdd     0.0\n",
       "MasVnrArea       0.0\n",
       "BsmtFinSF1       0.0\n",
       "BsmtFinSF2       0.0\n",
       "BsmtUnfSF        0.0\n",
       "TotalBsmtSF      0.0\n",
       "1stFlrSF         0.0\n",
       "2ndFlrSF         0.0\n",
       "LowQualFinSF     0.0\n",
       "GrLivArea        0.0\n",
       "BsmtFullBath     0.0\n",
       "BsmtHalfBath     0.0\n",
       "FullBath         0.0\n",
       "HalfBath         0.0\n",
       "BedroomAbvGr     0.0\n",
       "KitchenAbvGr     0.0\n",
       "TotRmsAbvGrd     0.0\n",
       "Fireplaces       0.0\n",
       "GarageYrBlt      0.0\n",
       "GarageCars       0.0\n",
       "GarageArea       0.0\n",
       "WoodDeckSF       0.0\n",
       "OpenPorchSF      0.0\n",
       "EnclosedPorch    0.0\n",
       "3SsnPorch        0.0\n",
       "ScreenPorch      0.0\n",
       "PoolArea         0.0\n",
       "MiscVal          0.0\n",
       "MoSold           0.0\n",
       "YrSold           0.0\n",
       "dtype: float64"
      ]
     },
     "execution_count": 10,
     "metadata": {},
     "output_type": "execute_result"
    }
   ],
   "source": [
    "X_num = X_num.fillna(method='ffill')\n",
    "X_num.isna().mean()"
   ]
  },
  {
   "cell_type": "code",
   "execution_count": 11,
   "metadata": {},
   "outputs": [],
   "source": [
    "X_train_num, X_test_num, y_train, y_test = train_test_split(X_num, y, test_size=0.3, random_state=10)"
   ]
  },
  {
   "cell_type": "code",
   "execution_count": 12,
   "metadata": {},
   "outputs": [],
   "source": [
    "from sklearn.linear_model import LinearRegression, Ridge, Lasso\n",
    "from sklearn.metrics import r2_score, mean_squared_error\n",
    "\n",
    "def print_metrics(y_preds, y):\n",
    "    print(f'R^2: {r2_score(y_preds, y)}')\n",
    "    print(f'MSE: {mean_squared_error(y_preds, y)}')"
   ]
  },
  {
   "cell_type": "code",
   "execution_count": 13,
   "metadata": {},
   "outputs": [
    {
     "name": "stdout",
     "output_type": "stream",
     "text": [
      "R^2: 0.7993753468861877\n",
      "MSE: 1030771557.1336216\n"
     ]
    }
   ],
   "source": [
    "lr = LinearRegression()\n",
    "lr.fit(X_train_num, y_train)\n",
    "\n",
    "print_metrics(lr.predict(X_test_num), y_test)"
   ]
  },
  {
   "cell_type": "code",
   "execution_count": 14,
   "metadata": {},
   "outputs": [
    {
     "name": "stdout",
     "output_type": "stream",
     "text": [
      "R^2: 0.7993723170875773\n",
      "MSE: 1030050593.9815754\n"
     ]
    }
   ],
   "source": [
    "ridge = Ridge()\n",
    "ridge.fit(X_train_num, y_train)\n",
    "\n",
    "print_metrics(ridge.predict(X_test_num), y_test)"
   ]
  },
  {
   "cell_type": "code",
   "execution_count": 15,
   "metadata": {},
   "outputs": [
    {
     "name": "stdout",
     "output_type": "stream",
     "text": [
      "R^2: 0.7993765114150608\n",
      "MSE: 1030687706.4056242\n"
     ]
    }
   ],
   "source": [
    "lasso = Lasso()\n",
    "lasso.fit(X_train_num, y_train)\n",
    "\n",
    "print_metrics(lasso.predict(X_test_num), y_test)"
   ]
  },
  {
   "cell_type": "markdown",
   "metadata": {},
   "source": [
    "$$\\text{RMSE}(X, y, a) = \\sqrt{\\frac{1}{\\ell}\\sum_{i=1}^{\\ell} (y_i - a(x_i))^2}$$"
   ]
  },
  {
   "cell_type": "code",
   "execution_count": 16,
   "metadata": {},
   "outputs": [],
   "source": [
    "# Определите RMSE через функцию sklearn.metrics.make_scorer\n",
    "# TO DO"
   ]
  },
  {
   "cell_type": "code",
   "execution_count": 17,
   "metadata": {},
   "outputs": [],
   "source": [
    "def myRMSE(y, y_pred):\n",
    "    diff = np.square(y - y_pred).mean()\n",
    "    return np.sqrt(diff)\n",
    "        "
   ]
  },
  {
   "cell_type": "code",
   "execution_count": 18,
   "metadata": {},
   "outputs": [
    {
     "data": {
      "text/plain": [
       "{'fit_time': array([0.0287621 , 0.03438401, 0.01850772, 0.01883721, 0.02572703]),\n",
       " 'score_time': array([0.03893399, 0.00981593, 0.01045203, 0.02090621, 0.00993466]),\n",
       " 'test_RMSE': array([29154.27751955, 34933.7660524 , 36665.29659308, 30381.28196068,\n",
       "        49439.3175359 ])}"
      ]
     },
     "execution_count": 18,
     "metadata": {},
     "output_type": "execute_result"
    }
   ],
   "source": [
    "from sklearn.metrics import make_scorer\n",
    "from sklearn.model_selection import cross_validate\n",
    "\n",
    "cross_validate(LinearRegression(),\n",
    "              X_num, y, cv=5,\n",
    "              scoring = {'RMSE': make_scorer(myRMSE)})"
   ]
  },
  {
   "cell_type": "code",
   "execution_count": 19,
   "metadata": {},
   "outputs": [
    {
     "data": {
      "text/plain": [
       "{'fit_time': array([0.02956367, 0.03631878, 0.03744221, 0.03666091, 0.02768302]),\n",
       " 'score_time': array([0.01755619, 0.03509235, 0.01890278, 0.01533818, 0.01648855]),\n",
       " 'test_RMSE': array([29154.27751955, 34933.7660524 , 36665.29659308, 30381.28196068,\n",
       "        49439.3175359 ])}"
      ]
     },
     "execution_count": 19,
     "metadata": {},
     "output_type": "execute_result"
    }
   ],
   "source": [
    "from sklearn.metrics import mean_squared_error\n",
    "\n",
    "cross_validate(LinearRegression(),\n",
    "              X_num, y, cv=5,\n",
    "              scoring = {'RMSE': make_scorer(mean_squared_error, squared=False)})"
   ]
  },
  {
   "cell_type": "code",
   "execution_count": 20,
   "metadata": {},
   "outputs": [],
   "source": [
    "def show_weights(features, weights, scales):\n",
    "    fig, axs = plt.subplots(figsize=(14, 10), ncols=2)\n",
    "    sorted_weights = sorted(zip(weights, features, scales), reverse=True)\n",
    "    weights = [x[0] for x in sorted_weights]\n",
    "    features = [x[1] for x in sorted_weights]\n",
    "    scales = [x[2] for x in sorted_weights]\n",
    "    sns.barplot(y=features, x=weights, ax=axs[0])\n",
    "    axs[0].set_xlabel(\"Weight\")\n",
    "    sns.barplot(y=features, x=scales, ax=axs[1])\n",
    "    axs[1].set_xlabel(\"Scale\")\n",
    "    plt.tight_layout()"
   ]
  },
  {
   "cell_type": "code",
   "execution_count": 21,
   "metadata": {},
   "outputs": [
    {
     "data": {
      "image/png": "[encoded data removed]",
      "text/plain": [
       "<Figure size 1008x720 with 2 Axes>"
      ]
     },
     "metadata": {},
     "output_type": "display_data"
    }
   ],
   "source": [
    "show_weights(numeric_features, lr.coef_, X_train_num.std())"
   ]
  },
  {
   "cell_type": "code",
   "execution_count": 22,
   "metadata": {},
   "outputs": [],
   "source": [
    "# Отмасштабируйте признаки перед обучением модели, воспользуясь трансформером StandardScaler\n",
    "# TO DO"
   ]
  },
  {
   "cell_type": "code",
   "execution_count": 23,
   "metadata": {},
   "outputs": [
    {
     "data": {
      "text/plain": [
       "array([[-0.63713842, -0.77217649, -0.40368676, ...,  0.96632925,\n",
       "         0.24920932, -1.39805762],\n",
       "       [-0.87242495,  0.35393718, -0.00421508, ..., -0.0929191 ,\n",
       "         1.712956  ,  0.88561029],\n",
       "       [ 0.06872116,  1.23874078,  0.31268967, ..., -0.0929191 ,\n",
       "         1.712956  , -1.39805762],\n",
       "       ...,\n",
       "       [ 0.06872116, -0.12868296,  0.37755736, ..., -0.0929191 ,\n",
       "         1.712956  ,  0.12438765],\n",
       "       [ 0.30400769, -0.81239484, -0.14881781, ..., -0.0929191 ,\n",
       "         0.24920932,  0.88561029],\n",
       "       [ 0.06872116,  0.6354656 ,  0.03392676, ..., -0.0929191 ,\n",
       "         1.34701933, -1.39805762]])"
      ]
     },
     "execution_count": 23,
     "metadata": {},
     "output_type": "execute_result"
    }
   ],
   "source": [
    "from sklearn.preprocessing import StandardScaler\n",
    "\n",
    "scaler = StandardScaler()\n",
    "scaler.fit(X_train_num)\n",
    "X_train_scaled = scaler.transform(X_train_num)\n",
    "X_test_scaled = scaler.transform(X_test_num)\n",
    "X_train_scaled"
   ]
  },
  {
   "cell_type": "code",
   "execution_count": 24,
   "metadata": {},
   "outputs": [
    {
     "name": "stdout",
     "output_type": "stream",
     "text": [
      "RMSE: 32104.61118226832\n"
     ]
    }
   ],
   "source": [
    "lr = Lasso()\n",
    "lr.fit(X_train_scaled, y_train)\n",
    "print(f'RMSE: {myRMSE(lr.predict(X_test_scaled), y_test)}')"
   ]
  },
  {
   "cell_type": "code",
   "execution_count": 25,
   "metadata": {},
   "outputs": [
    {
     "data": {
      "image/png": "[encoded data removed]",
      "text/plain": [
       "<Figure size 1008x720 with 2 Axes>"
      ]
     },
     "metadata": {},
     "output_type": "display_data"
    }
   ],
   "source": [
    "scales = pd.Series(data=X_train_scaled.std(axis=0), index=numeric_features)\n",
    "show_weights(numeric_features, lr.coef_, scales)"
   ]
  },
  {
   "cell_type": "code",
   "execution_count": 26,
   "metadata": {},
   "outputs": [],
   "source": [
    "# Подберите коэффициент регуляризации alpha, воспользуясь GridSearchCV\n",
    "# TO DO"
   ]
  },
  {
   "cell_type": "code",
   "execution_count": 27,
   "metadata": {},
   "outputs": [],
   "source": [
    "from sklearn.model_selection import GridSearchCV"
   ]
  },
  {
   "cell_type": "code",
   "execution_count": 28,
   "metadata": {},
   "outputs": [
    {
     "name": "stdout",
     "output_type": "stream",
     "text": [
      "{'alpha': 321}\n",
      "-40500.1155791156\n"
     ]
    }
   ],
   "source": [
    "gs = GridSearchCV(Ridge(), \n",
    "                [{'alpha': np.arange(1, 1000, 10)}],\n",
    "                cv=5,\n",
    "                scoring=make_scorer(myRMSE, greater_is_better=False)\n",
    "                )\n",
    "gs.fit(X_train_scaled, y_train)\n",
    "print(gs.best_params_)\n",
    "print(gs.best_score_)"
   ]
  },
  {
   "cell_type": "code",
   "execution_count": 29,
   "metadata": {},
   "outputs": [
    {
     "name": "stdout",
     "output_type": "stream",
     "text": [
      "{'alpha': 3140}\n",
      "-40441.61448324115\n"
     ]
    }
   ],
   "source": [
    "gs = GridSearchCV(Lasso(), \n",
    "                [{'alpha': np.arange(3000, 5000, 10)}],\n",
    "                cv=5,\n",
    "                scoring=make_scorer(myRMSE, greater_is_better=False)\n",
    "                )\n",
    "gs.fit(X_train_scaled, y_train)\n",
    "print(gs.best_params_)\n",
    "print(gs.best_score_)"
   ]
  },
  {
   "cell_type": "code",
   "execution_count": 30,
   "metadata": {},
   "outputs": [],
   "source": [
    "# Обучите линейную регрессию (LinearRegression, Ridge, Lasso) с подобранным коэффициентом регуляризации на числовых признаках из нашего датасета, воспользуясь классом Pipeline (не забывать про мастабирование признаков через StandardScaler)\n",
    "# TO DO"
   ]
  },
  {
   "cell_type": "code",
   "execution_count": 31,
   "metadata": {},
   "outputs": [],
   "source": [
    "from sklearn.pipeline import make_pipeline\n",
    "\n",
    "lr_pipe = make_pipeline(StandardScaler(), LinearRegression())\n",
    "ridge_pipe = make_pipeline(StandardScaler(), Ridge(alpha=321))\n",
    "lasso_pipe = make_pipeline(StandardScaler(), Lasso(alpha=3140))"
   ]
  },
  {
   "cell_type": "code",
   "execution_count": 32,
   "metadata": {},
   "outputs": [
    {
     "name": "stdout",
     "output_type": "stream",
     "text": [
      "RMSE: 32099.487852842765\n"
     ]
    }
   ],
   "source": [
    "lr_pipe.fit(X_train_num, y_train)\n",
    "print(f'RMSE: {myRMSE(lr_pipe.predict(X_test_num), y_test)}')"
   ]
  },
  {
   "cell_type": "code",
   "execution_count": 33,
   "metadata": {},
   "outputs": [
    {
     "name": "stdout",
     "output_type": "stream",
     "text": [
      "RMSE: 31784.418503518686\n"
     ]
    }
   ],
   "source": [
    "ridge_pipe.fit(X_train_num, y_train)\n",
    "print(f'RMSE: {myRMSE(ridge_pipe.predict(X_test_num), y_test)}')"
   ]
  },
  {
   "cell_type": "code",
   "execution_count": 34,
   "metadata": {},
   "outputs": [
    {
     "name": "stdout",
     "output_type": "stream",
     "text": [
      "RMSE: 33077.24946481961\n"
     ]
    }
   ],
   "source": [
    "lasso_pipe.fit(X_train_num, y_train)\n",
    "print(f'RMSE: {myRMSE(lasso_pipe.predict(X_test_num), y_test)}')"
   ]
  },
  {
   "cell_type": "code",
   "execution_count": 35,
   "metadata": {},
   "outputs": [],
   "source": [
    "categorical = list(X_train.dtypes[X_train.dtypes == \"object\"].index)\n",
    "X_train[categorical] = X_train[categorical].fillna(\"NotGiven\")\n",
    "X_test[categorical] = X_test[categorical].fillna(\"NotGiven\")\n",
    "X_train[numeric_features] = X_train[numeric_features].fillna(method='ffill')\n",
    "X_test[numeric_features] = X_test[numeric_features].fillna(method='ffill')"
   ]
  },
  {
   "cell_type": "code",
   "execution_count": 36,
   "metadata": {},
   "outputs": [
    {
     "data": {
      "text/html": [
       "<div>\n",
       "<style scoped>\n",
       "    .dataframe tbody tr th:only-of-type {\n",
       "        vertical-align: middle;\n",
       "    }\n",
       "\n",
       "    .dataframe tbody tr th {\n",
       "        vertical-align: top;\n",
       "    }\n",
       "\n",
       "    .dataframe thead th {\n",
       "        text-align: right;\n",
       "    }\n",
       "</style>\n",
       "<table border=\"1\" class=\"dataframe\">\n",
       "  <thead>\n",
       "    <tr style=\"text-align: right;\">\n",
       "      <th></th>\n",
       "      <th>MSZoning</th>\n",
       "      <th>Street</th>\n",
       "      <th>Alley</th>\n",
       "      <th>LotShape</th>\n",
       "      <th>LandContour</th>\n",
       "      <th>Utilities</th>\n",
       "      <th>LotConfig</th>\n",
       "      <th>LandSlope</th>\n",
       "      <th>Neighborhood</th>\n",
       "      <th>Condition1</th>\n",
       "      <th>...</th>\n",
       "      <th>GarageType</th>\n",
       "      <th>GarageFinish</th>\n",
       "      <th>GarageQual</th>\n",
       "      <th>GarageCond</th>\n",
       "      <th>PavedDrive</th>\n",
       "      <th>PoolQC</th>\n",
       "      <th>Fence</th>\n",
       "      <th>MiscFeature</th>\n",
       "      <th>SaleType</th>\n",
       "      <th>SaleCondition</th>\n",
       "    </tr>\n",
       "  </thead>\n",
       "  <tbody>\n",
       "    <tr>\n",
       "      <th>1353</th>\n",
       "      <td>RL</td>\n",
       "      <td>Pave</td>\n",
       "      <td>NotGiven</td>\n",
       "      <td>IR1</td>\n",
       "      <td>Lvl</td>\n",
       "      <td>AllPub</td>\n",
       "      <td>CulDSac</td>\n",
       "      <td>Gtl</td>\n",
       "      <td>NoRidge</td>\n",
       "      <td>Norm</td>\n",
       "      <td>...</td>\n",
       "      <td>Attchd</td>\n",
       "      <td>Fin</td>\n",
       "      <td>TA</td>\n",
       "      <td>TA</td>\n",
       "      <td>Y</td>\n",
       "      <td>NotGiven</td>\n",
       "      <td>NotGiven</td>\n",
       "      <td>NotGiven</td>\n",
       "      <td>WD</td>\n",
       "      <td>Normal</td>\n",
       "    </tr>\n",
       "    <tr>\n",
       "      <th>1305</th>\n",
       "      <td>RL</td>\n",
       "      <td>Pave</td>\n",
       "      <td>NotGiven</td>\n",
       "      <td>IR1</td>\n",
       "      <td>Lvl</td>\n",
       "      <td>AllPub</td>\n",
       "      <td>Corner</td>\n",
       "      <td>Gtl</td>\n",
       "      <td>NridgHt</td>\n",
       "      <td>Norm</td>\n",
       "      <td>...</td>\n",
       "      <td>Attchd</td>\n",
       "      <td>Fin</td>\n",
       "      <td>TA</td>\n",
       "      <td>TA</td>\n",
       "      <td>Y</td>\n",
       "      <td>NotGiven</td>\n",
       "      <td>NotGiven</td>\n",
       "      <td>NotGiven</td>\n",
       "      <td>WD</td>\n",
       "      <td>Normal</td>\n",
       "    </tr>\n",
       "    <tr>\n",
       "      <th>41</th>\n",
       "      <td>RL</td>\n",
       "      <td>Pave</td>\n",
       "      <td>NotGiven</td>\n",
       "      <td>Reg</td>\n",
       "      <td>Lvl</td>\n",
       "      <td>AllPub</td>\n",
       "      <td>Inside</td>\n",
       "      <td>Gtl</td>\n",
       "      <td>Timber</td>\n",
       "      <td>Norm</td>\n",
       "      <td>...</td>\n",
       "      <td>Attchd</td>\n",
       "      <td>RFn</td>\n",
       "      <td>TA</td>\n",
       "      <td>TA</td>\n",
       "      <td>P</td>\n",
       "      <td>NotGiven</td>\n",
       "      <td>NotGiven</td>\n",
       "      <td>NotGiven</td>\n",
       "      <td>WD</td>\n",
       "      <td>Normal</td>\n",
       "    </tr>\n",
       "    <tr>\n",
       "      <th>976</th>\n",
       "      <td>RL</td>\n",
       "      <td>Pave</td>\n",
       "      <td>NotGiven</td>\n",
       "      <td>IR1</td>\n",
       "      <td>Bnk</td>\n",
       "      <td>AllPub</td>\n",
       "      <td>Inside</td>\n",
       "      <td>Gtl</td>\n",
       "      <td>BrkSide</td>\n",
       "      <td>Norm</td>\n",
       "      <td>...</td>\n",
       "      <td>NotGiven</td>\n",
       "      <td>NotGiven</td>\n",
       "      <td>NotGiven</td>\n",
       "      <td>NotGiven</td>\n",
       "      <td>Y</td>\n",
       "      <td>NotGiven</td>\n",
       "      <td>NotGiven</td>\n",
       "      <td>NotGiven</td>\n",
       "      <td>WD</td>\n",
       "      <td>Normal</td>\n",
       "    </tr>\n",
       "    <tr>\n",
       "      <th>967</th>\n",
       "      <td>RL</td>\n",
       "      <td>Pave</td>\n",
       "      <td>NotGiven</td>\n",
       "      <td>IR1</td>\n",
       "      <td>Lvl</td>\n",
       "      <td>AllPub</td>\n",
       "      <td>Inside</td>\n",
       "      <td>Gtl</td>\n",
       "      <td>NAmes</td>\n",
       "      <td>Norm</td>\n",
       "      <td>...</td>\n",
       "      <td>Attchd</td>\n",
       "      <td>Unf</td>\n",
       "      <td>TA</td>\n",
       "      <td>TA</td>\n",
       "      <td>Y</td>\n",
       "      <td>NotGiven</td>\n",
       "      <td>NotGiven</td>\n",
       "      <td>NotGiven</td>\n",
       "      <td>WD</td>\n",
       "      <td>Normal</td>\n",
       "    </tr>\n",
       "  </tbody>\n",
       "</table>\n",
       "<p>5 rows × 43 columns</p>\n",
       "</div>"
      ],
      "text/plain": [
       "     MSZoning Street     Alley LotShape LandContour Utilities LotConfig  \\\n",
       "1353       RL   Pave  NotGiven      IR1         Lvl    AllPub   CulDSac   \n",
       "1305       RL   Pave  NotGiven      IR1         Lvl    AllPub    Corner   \n",
       "41         RL   Pave  NotGiven      Reg         Lvl    AllPub    Inside   \n",
       "976        RL   Pave  NotGiven      IR1         Bnk    AllPub    Inside   \n",
       "967        RL   Pave  NotGiven      IR1         Lvl    AllPub    Inside   \n",
       "\n",
       "     LandSlope Neighborhood Condition1  ... GarageType GarageFinish  \\\n",
       "1353       Gtl      NoRidge       Norm  ...     Attchd          Fin   \n",
       "1305       Gtl      NridgHt       Norm  ...     Attchd          Fin   \n",
       "41         Gtl       Timber       Norm  ...     Attchd          RFn   \n",
       "976        Gtl      BrkSide       Norm  ...   NotGiven     NotGiven   \n",
       "967        Gtl        NAmes       Norm  ...     Attchd          Unf   \n",
       "\n",
       "     GarageQual GarageCond PavedDrive    PoolQC     Fence MiscFeature  \\\n",
       "1353         TA         TA          Y  NotGiven  NotGiven    NotGiven   \n",
       "1305         TA         TA          Y  NotGiven  NotGiven    NotGiven   \n",
       "41           TA         TA          P  NotGiven  NotGiven    NotGiven   \n",
       "976    NotGiven   NotGiven          Y  NotGiven  NotGiven    NotGiven   \n",
       "967          TA         TA          Y  NotGiven  NotGiven    NotGiven   \n",
       "\n",
       "     SaleType SaleCondition  \n",
       "1353       WD        Normal  \n",
       "1305       WD        Normal  \n",
       "41         WD        Normal  \n",
       "976        WD        Normal  \n",
       "967        WD        Normal  \n",
       "\n",
       "[5 rows x 43 columns]"
      ]
     },
     "execution_count": 36,
     "metadata": {},
     "output_type": "execute_result"
    }
   ],
   "source": [
    "X_train[categorical].sample(5)"
   ]
  },
  {
   "cell_type": "code",
   "execution_count": 37,
   "metadata": {},
   "outputs": [],
   "source": [
    "# Закодируйте категориальные признаки числами с помощью OneHotEncoder и обучите модели на всех признаках"
   ]
  },
  {
   "cell_type": "code",
   "execution_count": 38,
   "metadata": {},
   "outputs": [
    {
     "data": {
      "text/plain": [
       "ColumnTransformer(transformers=[('scale', StandardScaler(),\n",
       "                                 [0, 2, 3, 16, 17, 18, 19, 25, 33, 35, 36, 37,\n",
       "                                  42, 43, 44, 45, 46, 47, 48, 49, 50, 51, 53,\n",
       "                                  55, 58, 60, 61, 65, 66, 67, ...]),\n",
       "                                ('encode', OneHotEncoder(),\n",
       "                                 [1, 4, 5, 6, 7, 8, 9, 10, 11, 12, 13, 14, 15,\n",
       "                                  20, 21, 22, 23, 24, 26, 27, 28, 29, 30, 31,\n",
       "                                  32, 34, 38, 39, 40, 41, ...])])"
      ]
     },
     "execution_count": 38,
     "metadata": {},
     "output_type": "execute_result"
    }
   ],
   "source": [
    "from sklearn.preprocessing import OneHotEncoder\n",
    "from sklearn.compose import ColumnTransformer\n",
    "\n",
    "def column_transformer_model():\n",
    "    return ColumnTransformer([\n",
    "        ('scale', StandardScaler(), list(map(lambda x : X_train.columns.get_loc(x), numeric_features))),\n",
    "        ('encode', OneHotEncoder(), list(map(lambda x : X.columns.get_loc(x), categorical)))\n",
    "    ])\n",
    "X[categorical] = X[categorical].fillna(\"NotGiven\")\n",
    "X[numeric_features] = X[numeric_features].fillna(method='ffill')\n",
    "column_transformer = column_transformer_model()\n",
    "column_transformer.fit(X)\n",
    "\n",
    "#обучать трансформер на всей выборке - плохо, но я не придумал другого способа борьбы с проблемой,\n",
    "#что некоторые категории уникальны для тестовой выборки\n"
   ]
  },
  {
   "cell_type": "code",
   "execution_count": 39,
   "metadata": {},
   "outputs": [
    {
     "name": "stdout",
     "output_type": "stream",
     "text": [
      "Size before OneHot: (1022, 79)\n",
      "Size after OneHot: (1022, 304)\n"
     ]
    }
   ],
   "source": [
    "print(\"Size before OneHot:\", X_train.shape)\n",
    "print(\"Size after OneHot:\", column_transformer.transform(X_train).shape)"
   ]
  },
  {
   "cell_type": "code",
   "execution_count": 40,
   "metadata": {},
   "outputs": [],
   "source": [
    "X_train_fin = column_transformer.transform(X_train)\n",
    "X_test_fin = column_transformer.transform(X_test)"
   ]
  },
  {
   "cell_type": "code",
   "execution_count": 41,
   "metadata": {},
   "outputs": [
    {
     "name": "stdout",
     "output_type": "stream",
     "text": [
      "RMSE: 26628.224152185092\n"
     ]
    }
   ],
   "source": [
    "lasso = Lasso()\n",
    "lasso.fit(X_train_fin, y_train)\n",
    "print(f'RMSE: {myRMSE(lasso.predict(X_test_fin), y_test)}')"
   ]
  },
  {
   "cell_type": "code",
   "execution_count": 42,
   "metadata": {},
   "outputs": [
    {
     "name": "stdout",
     "output_type": "stream",
     "text": [
      "RMSE: 26251.886927303298\n"
     ]
    }
   ],
   "source": [
    "ridge = Ridge()\n",
    "ridge.fit(X_train_fin, y_train)\n",
    "print(f'RMSE: {myRMSE(ridge.predict(X_test_fin), y_test)}')"
   ]
  },
  {
   "cell_type": "code",
   "execution_count": 43,
   "metadata": {},
   "outputs": [
    {
     "name": "stdout",
     "output_type": "stream",
     "text": [
      "RMSE: 30208.387835864476\n"
     ]
    }
   ],
   "source": [
    "lr = LinearRegression()\n",
    "lr.fit(X_train_fin, y_train)\n",
    "print(f'RMSE: {myRMSE(lr.predict(X_test_fin), y_test)}')"
   ]
  },
  {
   "cell_type": "code",
   "execution_count": 44,
   "metadata": {},
   "outputs": [],
   "source": [
    "# Обучите линейную регрессию с l1 и l2 регуляризаторами"
   ]
  },
  {
   "cell_type": "code",
   "execution_count": 45,
   "metadata": {},
   "outputs": [
    {
     "name": "stdout",
     "output_type": "stream",
     "text": [
      "RMSE: 26251.886927303298\n"
     ]
    }
   ],
   "source": [
    "ridge_pipe = make_pipeline(Ridge())\n",
    "ridge_pipe.fit(X_train_fin, y_train)\n",
    "print(f'RMSE: {myRMSE(ridge_pipe.predict(X_test_fin), y_test)}')"
   ]
  },
  {
   "cell_type": "code",
   "execution_count": 46,
   "metadata": {},
   "outputs": [
    {
     "name": "stdout",
     "output_type": "stream",
     "text": [
      "RMSE: 26628.224152185092\n"
     ]
    }
   ],
   "source": [
    "lasso_pipe = make_pipeline(Lasso())\n",
    "lasso_pipe.fit(X_train_fin, y_train)\n",
    "print(f'RMSE: {myRMSE(lasso_pipe.predict(X_test_fin), y_test)}')"
   ]
  },
  {
   "cell_type": "code",
   "execution_count": 47,
   "metadata": {},
   "outputs": [
    {
     "name": "stdout",
     "output_type": "stream",
     "text": [
      "Zero weights in Ridge: 10\n",
      "Zero weights in Lasso: 44\n"
     ]
    }
   ],
   "source": [
    "ridge_zeros = np.sum(ridge_pipe.steps[-1][-1].coef_ == 0)\n",
    "lasso_zeros = np.sum(lasso_pipe.steps[-1][-1].coef_ == 0)\n",
    "print(\"Zero weights in Ridge:\", ridge_zeros)\n",
    "print(\"Zero weights in Lasso:\", lasso_zeros)"
   ]
  },
  {
   "cell_type": "code",
   "execution_count": 48,
   "metadata": {},
   "outputs": [],
   "source": [
    "# Подберите коэффициент регуляризации для всех моделей, воспользуясь GridSearchCV\n",
    "# TO DO"
   ]
  },
  {
   "cell_type": "code",
   "execution_count": 52,
   "metadata": {},
   "outputs": [
    {
     "name": "stdout",
     "output_type": "stream",
     "text": [
      "{'alpha': 16.599999999999994}\n",
      "-36810.376343817625\n"
     ]
    }
   ],
   "source": [
    "gs = GridSearchCV(Ridge(), \n",
    "                [{'alpha': np.arange(1, 20, 0.2)}],\n",
    "                cv=5,\n",
    "                scoring=make_scorer(myRMSE, greater_is_better=False)\n",
    "                )\n",
    "gs.fit(X_train_fin, y_train)\n",
    "print(gs.best_params_)\n",
    "print(gs.best_score_)"
   ]
  },
  {
   "cell_type": "code",
   "execution_count": 57,
   "metadata": {},
   "outputs": [
    {
     "name": "stdout",
     "output_type": "stream",
     "text": [
      "{'alpha': 230}\n",
      "-35428.70758163791\n"
     ]
    }
   ],
   "source": [
    "gs = GridSearchCV(Lasso(), \n",
    "                [{'alpha': np.arange(100, 500, 10)}],\n",
    "                cv=5,\n",
    "                scoring=make_scorer(myRMSE, greater_is_better=False)\n",
    "                )\n",
    "gs.fit(X_train_fin, y_train)\n",
    "print(gs.best_params_)\n",
    "print(gs.best_score_)"
   ]
  },
  {
   "cell_type": "code",
   "execution_count": 58,
   "metadata": {},
   "outputs": [
    {
     "name": "stdout",
     "output_type": "stream",
     "text": [
      "{'alpha': 228}\n",
      "-35428.50264614824\n"
     ]
    }
   ],
   "source": [
    "gs = GridSearchCV(Lasso(), \n",
    "                [{'alpha': np.arange(200, 250, 1)}],\n",
    "                cv=5,\n",
    "                scoring=make_scorer(myRMSE, greater_is_better=False)\n",
    "                )\n",
    "gs.fit(X_train_fin, y_train)\n",
    "print(gs.best_params_)\n",
    "print(gs.best_score_)"
   ]
  },
  {
   "cell_type": "code",
   "execution_count": 59,
   "metadata": {},
   "outputs": [
    {
     "name": "stdout",
     "output_type": "stream",
     "text": [
      "RMSE: 25816.590663824496\n"
     ]
    }
   ],
   "source": [
    "model = Ridge(alpha=16.6)\n",
    "model.fit(X_train_fin, y_train)\n",
    "print(f'RMSE: {myRMSE(model.predict(X_test_fin), y_test)}')"
   ]
  },
  {
   "cell_type": "code",
   "execution_count": 60,
   "metadata": {},
   "outputs": [
    {
     "name": "stdout",
     "output_type": "stream",
     "text": [
      "RMSE: 25277.70379928191\n"
     ]
    }
   ],
   "source": [
    "model = Lasso(alpha=228)\n",
    "model.fit(X_train_fin, y_train)\n",
    "print(f'RMSE: {myRMSE(model.predict(X_test_fin), y_test)}')"
   ]
  },
  {
   "cell_type": "code",
   "execution_count": 62,
   "metadata": {},
   "outputs": [
    {
     "data": {
      "text/plain": [
       "<AxesSubplot:xlabel='SalePrice', ylabel='Density'>"
      ]
     },
     "execution_count": 62,
     "metadata": {},
     "output_type": "execute_result"
    },
    {
     "data": {
      "image/png": "[encoded data removed]",
      "text/plain": [
       "<Figure size 432x288 with 1 Axes>"
      ]
     },
     "metadata": {},
     "output_type": "display_data"
    }
   ],
   "source": [
    "error = (y_train - model.predict(X_train_fin)) ** 2\n",
    "sns.distplot(error)"
   ]
  },
  {
   "cell_type": "markdown",
   "metadata": {},
   "source": [
    "Как видно из гистограммы, есть примеры с очень большими остатками. Попробуем их выбросить из обучающей выборки. Например, выбросим примеры, остаток у которых больше 0.95-квантили."
   ]
  },
  {
   "cell_type": "code",
   "execution_count": 11,
   "metadata": {},
   "outputs": [],
   "source": [
    "# Выбросите из обучающей выборки примеры, остаток у которых больше 0.95-квантили и переобучите модели \n",
    "# TO DO"
   ]
  },
  {
   "cell_type": "code",
   "execution_count": 63,
   "metadata": {},
   "outputs": [],
   "source": [
    "bins = np.linspace(np.min(error), np.max(error), 100)\n",
    "clss = np.digitize(error, bins)\n",
    "clss_nums, clss_counts = np.unique(clss, return_counts=True)\n",
    "clss_sum = np.cumsum(clss_counts)\n",
    "quantiles = clss_sum / clss_sum[-1]\n",
    "good_clss = clss_nums[quantiles < 0.95]\n",
    "mask = np.isin(clss, good_clss)"
   ]
  },
  {
   "cell_type": "code",
   "execution_count": 64,
   "metadata": {},
   "outputs": [
    {
     "data": {
      "text/plain": [
       "<AxesSubplot:xlabel='SalePrice', ylabel='Density'>"
      ]
     },
     "execution_count": 64,
     "metadata": {},
     "output_type": "execute_result"
    },
    {
     "data": {
      "image/png": "[encoded data removed]",
      "text/plain": [
       "<Figure size 432x288 with 1 Axes>"
      ]
     },
     "metadata": {},
     "output_type": "display_data"
    }
   ],
   "source": [
    "error = (y_train[mask] - model.predict(X_train_fin[mask])) ** 2\n",
    "sns.distplot(error)"
   ]
  },
  {
   "cell_type": "code",
   "execution_count": 19,
   "metadata": {},
   "outputs": [],
   "source": [
    "# Получите скор по нашей метрике (RMSE) ниже значения 30000\n",
    "# TO DO"
   ]
  },
  {
   "cell_type": "code",
   "execution_count": 65,
   "metadata": {},
   "outputs": [
    {
     "name": "stdout",
     "output_type": "stream",
     "text": [
      "RMSE: 24620.87237534814\n"
     ]
    }
   ],
   "source": [
    "model = Lasso(alpha=228)\n",
    "model.fit(X_train_fin[mask], y_train[mask])\n",
    "print(f'RMSE: {myRMSE(model.predict(X_test_fin), y_test)}')"
   ]
  },
  {
   "cell_type": "markdown",
   "metadata": {},
   "source": []
  }
 ],
 "metadata": {
  "kernelspec": {
   "display_name": "Python 3",
   "language": "python",
   "name": "python3"
  },
  "language_info": {
   "codemirror_mode": {
    "name": "ipython",
    "version": 3
   },
   "file_extension": ".py",
   "mimetype": "text/x-python",
   "name": "python",
   "nbconvert_exporter": "python",
   "pygments_lexer": "ipython3",
   "version": "3.6.9"
  }
 },
 "nbformat": 4,
 "nbformat_minor": 2
}
